{
 "cells": [
  {
   "cell_type": "markdown",
   "metadata": {},
   "source": [
    "# MNIST XCNN with gradient ascent and feature maps"
   ]
  },
  {
   "cell_type": "code",
   "execution_count": 1,
   "metadata": {},
   "outputs": [
    {
     "name": "stderr",
     "output_type": "stream",
     "text": [
      "/Users/kesh/Library/Python/3.9/lib/python/site-packages/urllib3/__init__.py:34: NotOpenSSLWarning: urllib3 v2.0 only supports OpenSSL 1.1.1+, currently the 'ssl' module is compiled with 'LibreSSL 2.8.3'. See: https://github.com/urllib3/urllib3/issues/3020\n",
      "  warnings.warn(\n"
     ]
    }
   ],
   "source": [
    "import numpy as np\n",
    "import matplotlib.pyplot as plt\n",
    "from keras.datasets import mnist\n",
    "from keras.models import Sequential\n",
    "from keras.layers import Conv2D, MaxPooling2D, Flatten, Dense\n",
    "from keras.utils import to_categorical\n",
    "from sklearn.model_selection import train_test_split\n",
    "from keras.layers import Input, Conv2D, Flatten, Dense\n",
    "from keras.models import Model\n",
    "import tensorflow as tf\n",
    "import random"
   ]
  },
  {
   "cell_type": "markdown",
   "metadata": {},
   "source": [
    "Load and preprocess the MNIST dataset. (build a binary classifier for 8 and not 8)"
   ]
  },
  {
   "cell_type": "code",
   "execution_count": 2,
   "metadata": {},
   "outputs": [],
   "source": [
    "# Load MNIST dataset\n",
    "(X_train, y_train), (X_test, y_test) = mnist.load_data()\n",
    "\n",
    "# Modify labels: 8s are labeled as 1, non-8s are labeled as 0\n",
    "y_train_binary = np.where(y_train == 8, 1, 0)\n",
    "y_test_binary = np.where(y_test == 8, 1, 0)\n",
    "\n",
    "# Preprocess the data\n",
    "X_train = X_train.reshape(X_train.shape[0], 28, 28, 1).astype('float32') / 255\n",
    "X_test = X_test.reshape(X_test.shape[0], 28, 28, 1).astype('float32') / 255\n",
    "\n",
    "# Split the dataset into training and validation sets\n",
    "X_train, X_val, y_train_binary, y_val_binary = train_test_split(X_train, y_train_binary, test_size=0.2, random_state=42)"
   ]
  },
  {
   "cell_type": "markdown",
   "metadata": {},
   "source": [
    "We will define a simple CNN ending with a 1x1x50 convolution passed to a FC layer"
   ]
  },
  {
   "cell_type": "code",
   "execution_count": 8,
   "metadata": {},
   "outputs": [
    {
     "name": "stdout",
     "output_type": "stream",
     "text": [
      "Model: \"sequential_1\"\n",
      "_________________________________________________________________\n",
      " Layer (type)                Output Shape              Param #   \n",
      "=================================================================\n",
      " conv2d_1 (Conv2D)           (None, 9, 9, 1)           401       \n",
      "                                                                 \n",
      " max_pooling2d_1 (MaxPoolin  (None, 3, 3, 1)           0         \n",
      " g2D)                                                            \n",
      "                                                                 \n",
      " flatten_1 (Flatten)         (None, 9)                 0         \n",
      "                                                                 \n",
      " dense_1 (Dense)             (None, 1)                 10        \n",
      "                                                                 \n",
      "=================================================================\n"
     ]
    },
    {
     "name": "stdout",
     "output_type": "stream",
     "text": [
      "Total params: 411 (1.61 KB)\n",
      "Trainable params: 411 (1.61 KB)\n",
      "Non-trainable params: 0 (0.00 Byte)\n",
      "_________________________________________________________________\n",
      "WARNING:tensorflow:No training configuration found in the save file, so the model was *not* compiled. Compile it manually.\n"
     ]
    }
   ],
   "source": [
    "# Define the input layer\n",
    "input_layer = Input(shape=(28, 28, 1))\n",
    "\n",
    "#pool the input layer\n",
    "# pool1 = MaxPooling2D(pool_size=(3, 3))(input_layer)\n",
    "# # Convolutional layers\n",
    "# conv1 = Conv2D(1, (28, 28), padding='same', activation='relu')(pool1)\n",
    "# #conv2 = Conv2D(5, (1, 1), activation='relu')(conv1)\n",
    "# conv3 = Conv2D(1, (28, 28), activation='relu')(conv1)\n",
    "\n",
    "# # Flatten the output for the fully connected layer\n",
    "# flatten = Flatten()(conv1)\n",
    "\n",
    "# # Fully connected and output layers\n",
    "# output_layer = Dense(1, activation='sigmoid')(flatten)\n",
    "\n",
    "# Create the model\n",
    "#model = Model(inputs=input_layer, outputs=output_layer)\n",
    "\n",
    "model = Sequential(\n",
    "    [\n",
    "        Input(shape=(28, 28, 1)),\n",
    "        #convolution layer with filter size as the pooled image size\n",
    "        Conv2D(1, (20, 20), padding='valid', activation='relu'),\n",
    "        MaxPooling2D(pool_size=(3, 3)),\n",
    "        Flatten(),\n",
    "        Dense(1, activation='sigmoid')\n",
    "    ]\n",
    ")\n",
    "# Display the model summary\n",
    "model.summary()\n",
    "\n",
    "# Compile the model\n",
    "model.compile(optimizer='adam', loss='binary_crossentropy', metrics=['accuracy'])\n",
    "\n",
    "# Load the pre-trained model or train it\n",
    "try:\n",
    "    model = tf.keras.models.load_model('model/cifar-10.h5')\n",
    "except:\n",
    "    history = model.fit(X_train, y_train_binary, epochs=5, batch_size=64, validation_data=(X_val, y_val_binary))\n",
    "\n",
    "    # Evaluate the model on the test set\n",
    "    test_loss, test_acc = model.evaluate(X_test, y_test_binary)\n",
    "    test_f1 = 2 * (test_acc * test_acc) / (test_acc + test_acc)\n",
    "    print(f'Test accuracy: {test_acc}')\n",
    "    print(f'Test f1 macro: {test_f1}')\n",
    "\n",
    "    # Save the trained model\n",
    "    model.save('model/xcnn.h5')"
   ]
  },
  {
   "cell_type": "code",
   "execution_count": 9,
   "metadata": {},
   "outputs": [
    {
     "name": "stdout",
     "output_type": "stream",
     "text": [
      "conv2d_3\n",
      "max_pooling2d_2\n",
      "conv2d_4\n",
      "max_pooling2d_3\n",
      "conv2d_5\n"
     ]
    }
   ],
   "source": [
    "for layer in model.layers:\n",
    "    print(layer.name)\n"
   ]
  },
  {
   "cell_type": "markdown",
   "metadata": {},
   "source": [
    "A few helper functions"
   ]
  },
  {
   "cell_type": "code",
   "execution_count": 10,
   "metadata": {},
   "outputs": [],
   "source": [
    "def get_submodel(model, layer_name):\n",
    "  return tf.keras.models.Model(\n",
    "      model.input,\n",
    "      model.get_layer(layer_name).output\n",
    "  )"
   ]
  },
  {
   "cell_type": "code",
   "execution_count": 11,
   "metadata": {},
   "outputs": [],
   "source": [
    "def create_image():\n",
    "  return tf.random.uniform((28,28, 1), minval = -0.5, maxval = 0.5)\n",
    "\n",
    "#plots the image\n",
    "def plot_image(image, title = 'random'):\n",
    "  image = image - tf.math.reduce_min(image)\n",
    "  image = image / tf.math.reduce_max(image)\n",
    "  plt.imshow(image, cmap='gray')\n",
    "  plt.xticks([])\n",
    "  plt.yticks([])\n",
    "  plt.title(title)\n",
    "  plt.show()\n",
    "\n",
    "#gradient ascent for maximising the given filter's output\n",
    "def visualise_filters(model, layer_name, f_index = None, iters = 20):\n",
    "  submodel = get_submodel(model, layer_name)\n",
    "  num_filters = submodel.output.shape[-1]\n",
    "\n",
    "  if f_index is None:\n",
    "    f_index = random.randint(0, num_filters - 1)\n",
    "\n",
    "  assert num_filters > f_index, 'filter index out of bounds'\n",
    "\n",
    "  image = create_image()\n",
    "  verbose_step = int(iters / 5)\n",
    "\n",
    "  for i in range(0, iters):\n",
    "    with tf.GradientTape() as tape:\n",
    "      tape.watch(image)\n",
    "      out = submodel(tf.expand_dims(image, axis = 0))[:, :, :, f_index]\n",
    "      loss = tf.math.reduce_mean(out)\n",
    "    grads = tape.gradient(loss, image)\n",
    "    grads = tf.math.l2_normalize(grads)\n",
    "    image += grads * 10\n",
    "\n",
    "  \n",
    "  if (i + 1) % verbose_step == 0:\n",
    "      print(f'Iteration: {i + 1}, Loss: {loss.numpy():.4f}')\n",
    "\n",
    "  plot_image(image, f'{layer_name}, {f_index}')"
   ]
  },
  {
   "cell_type": "markdown",
   "metadata": {},
   "source": [
    "Let's perform activation mapping for a particular image (using a positive class example for starters)"
   ]
  },
  {
   "cell_type": "code",
   "execution_count": 14,
   "metadata": {},
   "outputs": [
    {
     "data": {
      "image/png": "[encoded data removed]",
      "text/plain": [
       "<Figure size 640x480 with 1 Axes>"
      ]
     },
     "metadata": {},
     "output_type": "display_data"
    },
    {
     "ename": "ValueError",
     "evalue": "in user code:\n\n    File \"/Users/kesh/Library/Python/3.9/lib/python/site-packages/keras/src/engine/training.py\", line 2341, in predict_function  *\n        return step_function(self, iterator)\n    File \"/Users/kesh/Library/Python/3.9/lib/python/site-packages/keras/src/engine/training.py\", line 2327, in step_function  **\n        outputs = model.distribute_strategy.run(run_step, args=(data,))\n    File \"/Users/kesh/Library/Python/3.9/lib/python/site-packages/keras/src/engine/training.py\", line 2315, in run_step  **\n        outputs = model.predict_step(data)\n    File \"/Users/kesh/Library/Python/3.9/lib/python/site-packages/keras/src/engine/training.py\", line 2283, in predict_step\n        return self(x, training=False)\n    File \"/Users/kesh/Library/Python/3.9/lib/python/site-packages/keras/src/utils/traceback_utils.py\", line 70, in error_handler\n        raise e.with_traceback(filtered_tb) from None\n    File \"/Users/kesh/Library/Python/3.9/lib/python/site-packages/keras/src/engine/input_spec.py\", line 298, in assert_input_compatibility\n        raise ValueError(\n\n    ValueError: Input 0 of layer \"sequential_1\" is incompatible with the layer: expected shape=(None, 32, 32, 3), found shape=(None, 28, 1)\n",
     "output_type": "error",
     "traceback": [
      "\u001b[0;31m---------------------------------------------------------------------------\u001b[0m",
      "\u001b[0;31mValueError\u001b[0m                                Traceback (most recent call last)",
      "Cell \u001b[0;32mIn[14], line 10\u001b[0m\n\u001b[1;32m      7\u001b[0m plt\u001b[38;5;241m.\u001b[39mshow()\n\u001b[1;32m      9\u001b[0m \u001b[38;5;66;03m# Make the model predict on the image\u001b[39;00m\n\u001b[0;32m---> 10\u001b[0m prediction \u001b[38;5;241m=\u001b[39m \u001b[43mmodel\u001b[49m\u001b[38;5;241;43m.\u001b[39;49m\u001b[43mpredict\u001b[49m\u001b[43m(\u001b[49m\u001b[43mimage\u001b[49m\u001b[43m,\u001b[49m\u001b[43m \u001b[49m\u001b[43mverbose\u001b[49m\u001b[43m \u001b[49m\u001b[38;5;241;43m=\u001b[39;49m\u001b[43m \u001b[49m\u001b[38;5;241;43m0\u001b[39;49m\u001b[43m)\u001b[49m\n\u001b[1;32m     11\u001b[0m \u001b[38;5;28mprint\u001b[39m(\u001b[38;5;124mf\u001b[39m\u001b[38;5;124m'\u001b[39m\u001b[38;5;124mProbability that the given image is 8 : \u001b[39m\u001b[38;5;132;01m{\u001b[39;00mprediction[\u001b[38;5;241m0\u001b[39m][\u001b[38;5;241m0\u001b[39m]\u001b[38;5;132;01m}\u001b[39;00m\u001b[38;5;124m'\u001b[39m)\n",
      "File \u001b[0;32m~/Library/Python/3.9/lib/python/site-packages/keras/src/utils/traceback_utils.py:70\u001b[0m, in \u001b[0;36mfilter_traceback.<locals>.error_handler\u001b[0;34m(*args, **kwargs)\u001b[0m\n\u001b[1;32m     67\u001b[0m     filtered_tb \u001b[38;5;241m=\u001b[39m _process_traceback_frames(e\u001b[38;5;241m.\u001b[39m__traceback__)\n\u001b[1;32m     68\u001b[0m     \u001b[38;5;66;03m# To get the full stack trace, call:\u001b[39;00m\n\u001b[1;32m     69\u001b[0m     \u001b[38;5;66;03m# `tf.debugging.disable_traceback_filtering()`\u001b[39;00m\n\u001b[0;32m---> 70\u001b[0m     \u001b[38;5;28;01mraise\u001b[39;00m e\u001b[38;5;241m.\u001b[39mwith_traceback(filtered_tb) \u001b[38;5;28;01mfrom\u001b[39;00m \u001b[38;5;28;01mNone\u001b[39;00m\n\u001b[1;32m     71\u001b[0m \u001b[38;5;28;01mfinally\u001b[39;00m:\n\u001b[1;32m     72\u001b[0m     \u001b[38;5;28;01mdel\u001b[39;00m filtered_tb\n",
      "File \u001b[0;32m/var/folders/5l/s0rszy917d755sppcj5dpq1r0000gn/T/__autograph_generated_file_501zvqu.py:15\u001b[0m, in \u001b[0;36mouter_factory.<locals>.inner_factory.<locals>.tf__predict_function\u001b[0;34m(iterator)\u001b[0m\n\u001b[1;32m     13\u001b[0m \u001b[38;5;28;01mtry\u001b[39;00m:\n\u001b[1;32m     14\u001b[0m     do_return \u001b[38;5;241m=\u001b[39m \u001b[38;5;28;01mTrue\u001b[39;00m\n\u001b[0;32m---> 15\u001b[0m     retval_ \u001b[38;5;241m=\u001b[39m ag__\u001b[38;5;241m.\u001b[39mconverted_call(ag__\u001b[38;5;241m.\u001b[39mld(step_function), (ag__\u001b[38;5;241m.\u001b[39mld(\u001b[38;5;28mself\u001b[39m), ag__\u001b[38;5;241m.\u001b[39mld(iterator)), \u001b[38;5;28;01mNone\u001b[39;00m, fscope)\n\u001b[1;32m     16\u001b[0m \u001b[38;5;28;01mexcept\u001b[39;00m:\n\u001b[1;32m     17\u001b[0m     do_return \u001b[38;5;241m=\u001b[39m \u001b[38;5;28;01mFalse\u001b[39;00m\n",
      "\u001b[0;31mValueError\u001b[0m: in user code:\n\n    File \"/Users/kesh/Library/Python/3.9/lib/python/site-packages/keras/src/engine/training.py\", line 2341, in predict_function  *\n        return step_function(self, iterator)\n    File \"/Users/kesh/Library/Python/3.9/lib/python/site-packages/keras/src/engine/training.py\", line 2327, in step_function  **\n        outputs = model.distribute_strategy.run(run_step, args=(data,))\n    File \"/Users/kesh/Library/Python/3.9/lib/python/site-packages/keras/src/engine/training.py\", line 2315, in run_step  **\n        outputs = model.predict_step(data)\n    File \"/Users/kesh/Library/Python/3.9/lib/python/site-packages/keras/src/engine/training.py\", line 2283, in predict_step\n        return self(x, training=False)\n    File \"/Users/kesh/Library/Python/3.9/lib/python/site-packages/keras/src/utils/traceback_utils.py\", line 70, in error_handler\n        raise e.with_traceback(filtered_tb) from None\n    File \"/Users/kesh/Library/Python/3.9/lib/python/site-packages/keras/src/engine/input_spec.py\", line 298, in assert_input_compatibility\n        raise ValueError(\n\n    ValueError: Input 0 of layer \"sequential_1\" is incompatible with the layer: expected shape=(None, 32, 32, 3), found shape=(None, 28, 1)\n"
     ]
    }
   ],
   "source": [
    "#positive class at 61\n",
    "image = X_test[61]\n",
    "\n",
    "# Plot the image\n",
    "plt.imshow(image)\n",
    "plt.axis('off')\n",
    "plt.show()\n",
    "\n",
    "# Make the model predict on the image\n",
    "prediction = model.predict(image, verbose = 0)\n",
    "print(f'Probability that the given image is 8 : {prediction[0][0]}')\n"
   ]
  },
  {
   "cell_type": "code",
   "execution_count": null,
   "metadata": {},
   "outputs": [
    {
     "name": "stdout",
     "output_type": "stream",
     "text": [
      "layer name:  flatten_18\n",
      "[(0, 3.6155412), (1, 0.0060532093), (2, 0.64152986), (3, 0.6617465), (4, 0.96443653), (5, 8.091389), (6, 0.0), (7, 0.2585715), (8, 4.9589787)]\n"
     ]
    }
   ],
   "source": [
    "#getting the weights of the last layer\n",
    "weights_FC = model.layers[-1].get_weights()[0]\n",
    "\n",
    "\n",
    "#getting the output of the last convolutional layer\n",
    "model_penultimate = get_submodel(model, model.layers[-2].name)\n",
    "\n",
    "print(\"layer name: \", model.layers[-2].name)\n",
    "#obtain the output of the last convolutional layer\n",
    "activations_penultimate = model_penultimate.predict(image.reshape(1, 28, 28, 1), verbose = 0)\n",
    "\n",
    "print(list(zip(list(range(len(activations_penultimate[0]))), activations_penultimate[0])))"
   ]
  },
  {
   "cell_type": "code",
   "execution_count": null,
   "metadata": {},
   "outputs": [
    {
     "name": "stdout",
     "output_type": "stream",
     "text": [
      "[[[-9.94088948e-02]\n",
      "  [-5.71427606e-02]\n",
      "  [-0.00000000e+00]\n",
      "  [-0.00000000e+00]\n",
      "  [-0.00000000e+00]\n",
      "  [-0.00000000e+00]\n",
      "  [-0.00000000e+00]\n",
      "  [-0.00000000e+00]\n",
      "  [-2.03764215e-02]\n",
      "  [-8.91887397e-02]\n",
      "  [-1.19210064e-01]\n",
      "  [-6.12781793e-02]\n",
      "  [-0.00000000e+00]\n",
      "  [-0.00000000e+00]\n",
      "  [-0.00000000e+00]\n",
      "  [-0.00000000e+00]\n",
      "  [-0.00000000e+00]\n",
      "  [-1.67222861e-02]\n",
      "  [-3.54329236e-02]\n",
      "  [-2.81911660e-02]\n",
      "  [-4.89406623e-02]\n",
      "  [-6.45372644e-02]\n",
      "  [-6.49009570e-02]\n",
      "  [-2.70014871e-02]\n",
      "  [-0.00000000e+00]\n",
      "  [-0.00000000e+00]\n",
      "  [-0.00000000e+00]\n",
      "  [-2.56431159e-02]]\n",
      "\n",
      " [[-7.78725818e-02]\n",
      "  [-5.26927300e-02]\n",
      "  [-2.69914482e-04]\n",
      "  [-0.00000000e+00]\n",
      "  [-0.00000000e+00]\n",
      "  [-0.00000000e+00]\n",
      "  [-0.00000000e+00]\n",
      "  [-0.00000000e+00]\n",
      "  [-0.00000000e+00]\n",
      "  [-2.70923786e-03]\n",
      "  [-0.00000000e+00]\n",
      "  [-0.00000000e+00]\n",
      "  [-0.00000000e+00]\n",
      "  [-0.00000000e+00]\n",
      "  [-0.00000000e+00]\n",
      "  [-0.00000000e+00]\n",
      "  [-0.00000000e+00]\n",
      "  [-0.00000000e+00]\n",
      "  [-3.33173797e-02]\n",
      "  [-8.04557204e-02]\n",
      "  [-1.05034910e-01]\n",
      "  [-1.01498321e-01]\n",
      "  [-4.30339091e-02]\n",
      "  [-0.00000000e+00]\n",
      "  [-0.00000000e+00]\n",
      "  [-0.00000000e+00]\n",
      "  [-0.00000000e+00]\n",
      "  [-0.00000000e+00]]\n",
      "\n",
      " [[-9.10085589e-02]\n",
      "  [-9.33721438e-02]\n",
      "  [-5.84605001e-02]\n",
      "  [-0.00000000e+00]\n",
      "  [-0.00000000e+00]\n",
      "  [-0.00000000e+00]\n",
      "  [-0.00000000e+00]\n",
      "  [-0.00000000e+00]\n",
      "  [-0.00000000e+00]\n",
      "  [-0.00000000e+00]\n",
      "  [-0.00000000e+00]\n",
      "  [-0.00000000e+00]\n",
      "  [-0.00000000e+00]\n",
      "  [-0.00000000e+00]\n",
      "  [-0.00000000e+00]\n",
      "  [-0.00000000e+00]\n",
      "  [-0.00000000e+00]\n",
      "  [-0.00000000e+00]\n",
      "  [-1.65971946e-02]\n",
      "  [-7.86345825e-02]\n",
      "  [-9.02581215e-02]\n",
      "  [-4.13339771e-02]\n",
      "  [-0.00000000e+00]\n",
      "  [-0.00000000e+00]\n",
      "  [-0.00000000e+00]\n",
      "  [-0.00000000e+00]\n",
      "  [-0.00000000e+00]\n",
      "  [-0.00000000e+00]]\n",
      "\n",
      " [[-1.06954895e-01]\n",
      "  [-1.21264987e-01]\n",
      "  [-9.96983573e-02]\n",
      "  [-1.94732919e-02]\n",
      "  [-0.00000000e+00]\n",
      "  [-0.00000000e+00]\n",
      "  [-0.00000000e+00]\n",
      "  [-0.00000000e+00]\n",
      "  [-0.00000000e+00]\n",
      "  [-0.00000000e+00]\n",
      "  [-0.00000000e+00]\n",
      "  [-0.00000000e+00]\n",
      "  [-0.00000000e+00]\n",
      "  [-0.00000000e+00]\n",
      "  [-0.00000000e+00]\n",
      "  [-0.00000000e+00]\n",
      "  [-0.00000000e+00]\n",
      "  [-0.00000000e+00]\n",
      "  [-0.00000000e+00]\n",
      "  [-4.54801433e-02]\n",
      "  [-3.91330458e-02]\n",
      "  [-0.00000000e+00]\n",
      "  [-0.00000000e+00]\n",
      "  [-0.00000000e+00]\n",
      "  [-0.00000000e+00]\n",
      "  [-0.00000000e+00]\n",
      "  [-0.00000000e+00]\n",
      "  [-0.00000000e+00]]\n",
      "\n",
      " [[-8.93294364e-02]\n",
      "  [-1.04386188e-01]\n",
      "  [-6.56816885e-02]\n",
      "  [-0.00000000e+00]\n",
      "  [-0.00000000e+00]\n",
      "  [-0.00000000e+00]\n",
      "  [-0.00000000e+00]\n",
      "  [-0.00000000e+00]\n",
      "  [-0.00000000e+00]\n",
      "  [-0.00000000e+00]\n",
      "  [-0.00000000e+00]\n",
      "  [-0.00000000e+00]\n",
      "  [-0.00000000e+00]\n",
      "  [-0.00000000e+00]\n",
      "  [-0.00000000e+00]\n",
      "  [-0.00000000e+00]\n",
      "  [-0.00000000e+00]\n",
      "  [-0.00000000e+00]\n",
      "  [-0.00000000e+00]\n",
      "  [-0.00000000e+00]\n",
      "  [-0.00000000e+00]\n",
      "  [-0.00000000e+00]\n",
      "  [-0.00000000e+00]\n",
      "  [-0.00000000e+00]\n",
      "  [-0.00000000e+00]\n",
      "  [-0.00000000e+00]\n",
      "  [-0.00000000e+00]\n",
      "  [-0.00000000e+00]]\n",
      "\n",
      " [[-1.54962437e-02]\n",
      "  [-0.00000000e+00]\n",
      "  [-0.00000000e+00]\n",
      "  [-0.00000000e+00]\n",
      "  [-0.00000000e+00]\n",
      "  [-0.00000000e+00]\n",
      "  [-0.00000000e+00]\n",
      "  [-0.00000000e+00]\n",
      "  [-0.00000000e+00]\n",
      "  [-0.00000000e+00]\n",
      "  [-0.00000000e+00]\n",
      "  [-0.00000000e+00]\n",
      "  [-0.00000000e+00]\n",
      "  [-0.00000000e+00]\n",
      "  [-0.00000000e+00]\n",
      "  [-0.00000000e+00]\n",
      "  [-0.00000000e+00]\n",
      "  [-0.00000000e+00]\n",
      "  [-0.00000000e+00]\n",
      "  [-0.00000000e+00]\n",
      "  [-0.00000000e+00]\n",
      "  [-0.00000000e+00]\n",
      "  [-0.00000000e+00]\n",
      "  [-0.00000000e+00]\n",
      "  [-0.00000000e+00]\n",
      "  [-0.00000000e+00]\n",
      "  [-0.00000000e+00]\n",
      "  [-0.00000000e+00]]\n",
      "\n",
      " [[-0.00000000e+00]\n",
      "  [-0.00000000e+00]\n",
      "  [-0.00000000e+00]\n",
      "  [-0.00000000e+00]\n",
      "  [-0.00000000e+00]\n",
      "  [-0.00000000e+00]\n",
      "  [-0.00000000e+00]\n",
      "  [-0.00000000e+00]\n",
      "  [-0.00000000e+00]\n",
      "  [-0.00000000e+00]\n",
      "  [-0.00000000e+00]\n",
      "  [-0.00000000e+00]\n",
      "  [-0.00000000e+00]\n",
      "  [-0.00000000e+00]\n",
      "  [-0.00000000e+00]\n",
      "  [-0.00000000e+00]\n",
      "  [-0.00000000e+00]\n",
      "  [-0.00000000e+00]\n",
      "  [-0.00000000e+00]\n",
      "  [-0.00000000e+00]\n",
      "  [-0.00000000e+00]\n",
      "  [-0.00000000e+00]\n",
      "  [-0.00000000e+00]\n",
      "  [-0.00000000e+00]\n",
      "  [-1.60263479e-02]\n",
      "  [-3.92422900e-02]\n",
      "  [-4.89538535e-02]\n",
      "  [-5.62918223e-02]]\n",
      "\n",
      " [[-0.00000000e+00]\n",
      "  [-0.00000000e+00]\n",
      "  [-0.00000000e+00]\n",
      "  [-0.00000000e+00]\n",
      "  [-0.00000000e+00]\n",
      "  [-0.00000000e+00]\n",
      "  [-0.00000000e+00]\n",
      "  [-0.00000000e+00]\n",
      "  [-0.00000000e+00]\n",
      "  [-0.00000000e+00]\n",
      "  [-0.00000000e+00]\n",
      "  [-0.00000000e+00]\n",
      "  [-0.00000000e+00]\n",
      "  [-0.00000000e+00]\n",
      "  [-0.00000000e+00]\n",
      "  [-0.00000000e+00]\n",
      "  [-0.00000000e+00]\n",
      "  [-0.00000000e+00]\n",
      "  [-0.00000000e+00]\n",
      "  [-0.00000000e+00]\n",
      "  [-0.00000000e+00]\n",
      "  [-2.30639633e-02]\n",
      "  [-7.88163245e-02]\n",
      "  [-1.04081586e-01]\n",
      "  [-1.04279451e-01]\n",
      "  [-9.36639905e-02]\n",
      "  [-7.92635307e-02]\n",
      "  [-5.99253550e-02]]\n",
      "\n",
      " [[-0.00000000e+00]\n",
      "  [-0.00000000e+00]\n",
      "  [-0.00000000e+00]\n",
      "  [-0.00000000e+00]\n",
      "  [-0.00000000e+00]\n",
      "  [-0.00000000e+00]\n",
      "  [-0.00000000e+00]\n",
      "  [-0.00000000e+00]\n",
      "  [-0.00000000e+00]\n",
      "  [-0.00000000e+00]\n",
      "  [-0.00000000e+00]\n",
      "  [-0.00000000e+00]\n",
      "  [-0.00000000e+00]\n",
      "  [-0.00000000e+00]\n",
      "  [-0.00000000e+00]\n",
      "  [-0.00000000e+00]\n",
      "  [-0.00000000e+00]\n",
      "  [-2.10612137e-02]\n",
      "  [-4.95270863e-02]\n",
      "  [-1.04587063e-01]\n",
      "  [-1.71010494e-01]\n",
      "  [-2.19433576e-01]\n",
      "  [-2.15226918e-01]\n",
      "  [-2.04493567e-01]\n",
      "  [-1.69495910e-01]\n",
      "  [-1.24816343e-01]\n",
      "  [-7.89657310e-02]\n",
      "  [-4.82217297e-02]]\n",
      "\n",
      " [[-0.00000000e+00]\n",
      "  [-0.00000000e+00]\n",
      "  [-0.00000000e+00]\n",
      "  [-0.00000000e+00]\n",
      "  [-0.00000000e+00]\n",
      "  [-0.00000000e+00]\n",
      "  [-0.00000000e+00]\n",
      "  [-0.00000000e+00]\n",
      "  [-0.00000000e+00]\n",
      "  [-0.00000000e+00]\n",
      "  [-0.00000000e+00]\n",
      "  [-0.00000000e+00]\n",
      "  [-0.00000000e+00]\n",
      "  [-4.99988198e-02]\n",
      "  [-8.04134160e-02]\n",
      "  [-9.09710601e-02]\n",
      "  [-1.03357017e-01]\n",
      "  [-1.23835802e-01]\n",
      "  [-1.80702835e-01]\n",
      "  [-2.36571312e-01]\n",
      "  [-2.73895472e-01]\n",
      "  [-3.01173091e-01]\n",
      "  [-2.95926213e-01]\n",
      "  [-2.63018548e-01]\n",
      "  [-2.03276306e-01]\n",
      "  [-1.43697843e-01]\n",
      "  [-1.04878992e-01]\n",
      "  [-5.17618842e-02]]\n",
      "\n",
      " [[-0.00000000e+00]\n",
      "  [-0.00000000e+00]\n",
      "  [-0.00000000e+00]\n",
      "  [-0.00000000e+00]\n",
      "  [-0.00000000e+00]\n",
      "  [-0.00000000e+00]\n",
      "  [-0.00000000e+00]\n",
      "  [-0.00000000e+00]\n",
      "  [-0.00000000e+00]\n",
      "  [-0.00000000e+00]\n",
      "  [-0.00000000e+00]\n",
      "  [-0.00000000e+00]\n",
      "  [-1.31339943e-02]\n",
      "  [-6.19344264e-02]\n",
      "  [-8.19234028e-02]\n",
      "  [-8.26042295e-02]\n",
      "  [-1.06339201e-01]\n",
      "  [-1.36908025e-01]\n",
      "  [-1.84529826e-01]\n",
      "  [-2.19246715e-01]\n",
      "  [-2.61344999e-01]\n",
      "  [-2.90590286e-01]\n",
      "  [-2.90489823e-01]\n",
      "  [-2.63267696e-01]\n",
      "  [-2.26660848e-01]\n",
      "  [-1.77981168e-01]\n",
      "  [-1.33537233e-01]\n",
      "  [-8.62809047e-02]]\n",
      "\n",
      " [[-0.00000000e+00]\n",
      "  [-0.00000000e+00]\n",
      "  [-4.35561240e-02]\n",
      "  [-8.89269412e-02]\n",
      "  [-8.26659054e-02]\n",
      "  [-4.87347022e-02]\n",
      "  [-4.51350759e-04]\n",
      "  [-0.00000000e+00]\n",
      "  [-0.00000000e+00]\n",
      "  [-0.00000000e+00]\n",
      "  [-0.00000000e+00]\n",
      "  [-0.00000000e+00]\n",
      "  [-1.26437536e-02]\n",
      "  [-3.21134515e-02]\n",
      "  [-2.74909753e-02]\n",
      "  [-2.35925242e-02]\n",
      "  [-5.79943843e-02]\n",
      "  [-1.01978831e-01]\n",
      "  [-1.38610497e-01]\n",
      "  [-1.78753749e-01]\n",
      "  [-2.10186884e-01]\n",
      "  [-2.47148797e-01]\n",
      "  [-2.71866798e-01]\n",
      "  [-2.82573849e-01]\n",
      "  [-2.80883491e-01]\n",
      "  [-2.44412124e-01]\n",
      "  [-1.87432438e-01]\n",
      "  [-1.38976157e-01]]\n",
      "\n",
      " [[-0.00000000e+00]\n",
      "  [-1.81955583e-02]\n",
      "  [-7.01180920e-02]\n",
      "  [-1.02890365e-01]\n",
      "  [-9.36424583e-02]\n",
      "  [-3.06602400e-02]\n",
      "  [-0.00000000e+00]\n",
      "  [-0.00000000e+00]\n",
      "  [-0.00000000e+00]\n",
      "  [-0.00000000e+00]\n",
      "  [-0.00000000e+00]\n",
      "  [-1.76058374e-02]\n",
      "  [-3.76097076e-02]\n",
      "  [-3.01517900e-02]\n",
      "  [-1.15420704e-03]\n",
      "  [-0.00000000e+00]\n",
      "  [-3.41877900e-02]\n",
      "  [-7.55049884e-02]\n",
      "  [-1.03888817e-01]\n",
      "  [-1.12246327e-01]\n",
      "  [-1.40763298e-01]\n",
      "  [-1.80142477e-01]\n",
      "  [-2.44048104e-01]\n",
      "  [-2.80969530e-01]\n",
      "  [-3.01849842e-01]\n",
      "  [-2.80935675e-01]\n",
      "  [-2.27961093e-01]\n",
      "  [-1.72881499e-01]]\n",
      "\n",
      " [[-0.00000000e+00]\n",
      "  [-0.00000000e+00]\n",
      "  [-0.00000000e+00]\n",
      "  [-0.00000000e+00]\n",
      "  [-0.00000000e+00]\n",
      "  [-0.00000000e+00]\n",
      "  [-0.00000000e+00]\n",
      "  [-0.00000000e+00]\n",
      "  [-0.00000000e+00]\n",
      "  [-0.00000000e+00]\n",
      "  [-0.00000000e+00]\n",
      "  [-2.20349990e-02]\n",
      "  [-2.95417141e-02]\n",
      "  [-7.80777168e-03]\n",
      "  [-0.00000000e+00]\n",
      "  [-0.00000000e+00]\n",
      "  [-0.00000000e+00]\n",
      "  [-0.00000000e+00]\n",
      "  [-0.00000000e+00]\n",
      "  [-0.00000000e+00]\n",
      "  [-1.31463325e-02]\n",
      "  [-6.61341622e-02]\n",
      "  [-1.46044821e-01]\n",
      "  [-2.12560073e-01]\n",
      "  [-2.33829483e-01]\n",
      "  [-2.14374498e-01]\n",
      "  [-1.62853345e-01]\n",
      "  [-1.36280328e-01]]\n",
      "\n",
      " [[-0.00000000e+00]\n",
      "  [-0.00000000e+00]\n",
      "  [-0.00000000e+00]\n",
      "  [-0.00000000e+00]\n",
      "  [-0.00000000e+00]\n",
      "  [-0.00000000e+00]\n",
      "  [-0.00000000e+00]\n",
      "  [-0.00000000e+00]\n",
      "  [-0.00000000e+00]\n",
      "  [-0.00000000e+00]\n",
      "  [-0.00000000e+00]\n",
      "  [-0.00000000e+00]\n",
      "  [-0.00000000e+00]\n",
      "  [-0.00000000e+00]\n",
      "  [-0.00000000e+00]\n",
      "  [-0.00000000e+00]\n",
      "  [-0.00000000e+00]\n",
      "  [-0.00000000e+00]\n",
      "  [-0.00000000e+00]\n",
      "  [-0.00000000e+00]\n",
      "  [-0.00000000e+00]\n",
      "  [-0.00000000e+00]\n",
      "  [-5.85994795e-02]\n",
      "  [-1.34553894e-01]\n",
      "  [-1.26949772e-01]\n",
      "  [-8.07325318e-02]\n",
      "  [-3.70846577e-02]\n",
      "  [-2.14465726e-02]]\n",
      "\n",
      " [[-0.00000000e+00]\n",
      "  [-0.00000000e+00]\n",
      "  [-0.00000000e+00]\n",
      "  [-0.00000000e+00]\n",
      "  [-0.00000000e+00]\n",
      "  [-0.00000000e+00]\n",
      "  [-0.00000000e+00]\n",
      "  [-0.00000000e+00]\n",
      "  [-0.00000000e+00]\n",
      "  [-0.00000000e+00]\n",
      "  [-0.00000000e+00]\n",
      "  [-3.66712571e-03]\n",
      "  [-0.00000000e+00]\n",
      "  [-0.00000000e+00]\n",
      "  [-0.00000000e+00]\n",
      "  [-0.00000000e+00]\n",
      "  [-0.00000000e+00]\n",
      "  [-0.00000000e+00]\n",
      "  [-0.00000000e+00]\n",
      "  [-0.00000000e+00]\n",
      "  [-0.00000000e+00]\n",
      "  [-0.00000000e+00]\n",
      "  [-6.96704686e-02]\n",
      "  [-1.12092189e-01]\n",
      "  [-6.55448362e-02]\n",
      "  [-0.00000000e+00]\n",
      "  [-0.00000000e+00]\n",
      "  [-0.00000000e+00]]\n",
      "\n",
      " [[-0.00000000e+00]\n",
      "  [-0.00000000e+00]\n",
      "  [-0.00000000e+00]\n",
      "  [-0.00000000e+00]\n",
      "  [-0.00000000e+00]\n",
      "  [-0.00000000e+00]\n",
      "  [-0.00000000e+00]\n",
      "  [-0.00000000e+00]\n",
      "  [-0.00000000e+00]\n",
      "  [-0.00000000e+00]\n",
      "  [-5.14769517e-02]\n",
      "  [-9.80431363e-02]\n",
      "  [-4.77822162e-02]\n",
      "  [-0.00000000e+00]\n",
      "  [-0.00000000e+00]\n",
      "  [-0.00000000e+00]\n",
      "  [-0.00000000e+00]\n",
      "  [-0.00000000e+00]\n",
      "  [-0.00000000e+00]\n",
      "  [-0.00000000e+00]\n",
      "  [-0.00000000e+00]\n",
      "  [-5.67055419e-02]\n",
      "  [-1.36152774e-01]\n",
      "  [-1.44027099e-01]\n",
      "  [-9.58153382e-02]\n",
      "  [-4.22664965e-03]\n",
      "  [-0.00000000e+00]\n",
      "  [-0.00000000e+00]]\n",
      "\n",
      " [[-0.00000000e+00]\n",
      "  [-0.00000000e+00]\n",
      "  [-0.00000000e+00]\n",
      "  [-0.00000000e+00]\n",
      "  [-0.00000000e+00]\n",
      "  [-0.00000000e+00]\n",
      "  [-0.00000000e+00]\n",
      "  [-0.00000000e+00]\n",
      "  [-0.00000000e+00]\n",
      "  [-5.85012548e-02]\n",
      "  [-1.20225944e-01]\n",
      "  [-1.22088008e-01]\n",
      "  [-3.52849662e-02]\n",
      "  [-0.00000000e+00]\n",
      "  [-0.00000000e+00]\n",
      "  [-0.00000000e+00]\n",
      "  [-0.00000000e+00]\n",
      "  [-0.00000000e+00]\n",
      "  [-0.00000000e+00]\n",
      "  [-0.00000000e+00]\n",
      "  [-0.00000000e+00]\n",
      "  [-8.36352929e-02]\n",
      "  [-1.72913328e-01]\n",
      "  [-1.71279520e-01]\n",
      "  [-1.11479543e-01]\n",
      "  [-2.76600365e-02]\n",
      "  [-0.00000000e+00]\n",
      "  [-1.32682901e-02]]\n",
      "\n",
      " [[-0.00000000e+00]\n",
      "  [-0.00000000e+00]\n",
      "  [-0.00000000e+00]\n",
      "  [-0.00000000e+00]\n",
      "  [-4.49840073e-03]\n",
      "  [-4.34423760e-02]\n",
      "  [-6.88970238e-02]\n",
      "  [-7.85295814e-02]\n",
      "  [-9.78069156e-02]\n",
      "  [-9.42197666e-02]\n",
      "  [-6.12132587e-02]\n",
      "  [-0.00000000e+00]\n",
      "  [-0.00000000e+00]\n",
      "  [-0.00000000e+00]\n",
      "  [-0.00000000e+00]\n",
      "  [-0.00000000e+00]\n",
      "  [-0.00000000e+00]\n",
      "  [-0.00000000e+00]\n",
      "  [-0.00000000e+00]\n",
      "  [-0.00000000e+00]\n",
      "  [-0.00000000e+00]\n",
      "  [-9.33496952e-02]\n",
      "  [-1.54681906e-01]\n",
      "  [-1.33233637e-01]\n",
      "  [-7.47450143e-02]\n",
      "  [-7.61101162e-03]\n",
      "  [-0.00000000e+00]\n",
      "  [-1.80070791e-02]]\n",
      "\n",
      " [[-4.00536926e-03]\n",
      "  [-0.00000000e+00]\n",
      "  [-0.00000000e+00]\n",
      "  [-0.00000000e+00]\n",
      "  [-5.02908826e-02]\n",
      "  [-7.65070394e-02]\n",
      "  [-8.60747546e-02]\n",
      "  [-8.48585516e-02]\n",
      "  [-5.94653077e-02]\n",
      "  [-7.27163116e-03]\n",
      "  [-0.00000000e+00]\n",
      "  [-0.00000000e+00]\n",
      "  [-0.00000000e+00]\n",
      "  [-0.00000000e+00]\n",
      "  [-0.00000000e+00]\n",
      "  [-0.00000000e+00]\n",
      "  [-0.00000000e+00]\n",
      "  [-0.00000000e+00]\n",
      "  [-0.00000000e+00]\n",
      "  [-0.00000000e+00]\n",
      "  [-1.26875415e-02]\n",
      "  [-7.76327550e-02]\n",
      "  [-8.24363902e-02]\n",
      "  [-3.24896835e-02]\n",
      "  [-0.00000000e+00]\n",
      "  [-0.00000000e+00]\n",
      "  [-0.00000000e+00]\n",
      "  [-0.00000000e+00]]\n",
      "\n",
      " [[-0.00000000e+00]\n",
      "  [-0.00000000e+00]\n",
      "  [-0.00000000e+00]\n",
      "  [-1.72021184e-02]\n",
      "  [-7.00099170e-02]\n",
      "  [-8.92323330e-02]\n",
      "  [-6.79283589e-02]\n",
      "  [-2.73373388e-02]\n",
      "  [-0.00000000e+00]\n",
      "  [-0.00000000e+00]\n",
      "  [-0.00000000e+00]\n",
      "  [-0.00000000e+00]\n",
      "  [-0.00000000e+00]\n",
      "  [-0.00000000e+00]\n",
      "  [-0.00000000e+00]\n",
      "  [-0.00000000e+00]\n",
      "  [-0.00000000e+00]\n",
      "  [-7.46461749e-03]\n",
      "  [-6.04744405e-02]\n",
      "  [-9.44430530e-02]\n",
      "  [-1.05043188e-01]\n",
      "  [-1.00673683e-01]\n",
      "  [-4.51249033e-02]\n",
      "  [-0.00000000e+00]\n",
      "  [-0.00000000e+00]\n",
      "  [-0.00000000e+00]\n",
      "  [-0.00000000e+00]\n",
      "  [-0.00000000e+00]]\n",
      "\n",
      " [[-1.20384265e-02]\n",
      "  [-0.00000000e+00]\n",
      "  [-0.00000000e+00]\n",
      "  [-4.43711318e-03]\n",
      "  [-4.22018580e-02]\n",
      "  [-7.19322637e-02]\n",
      "  [-5.92111014e-02]\n",
      "  [-9.07784235e-03]\n",
      "  [-0.00000000e+00]\n",
      "  [-0.00000000e+00]\n",
      "  [-0.00000000e+00]\n",
      "  [-0.00000000e+00]\n",
      "  [-5.36758034e-03]\n",
      "  [-1.15724681e-02]\n",
      "  [-3.88103351e-02]\n",
      "  [-1.02117889e-01]\n",
      "  [-1.76403865e-01]\n",
      "  [-2.31441930e-01]\n",
      "  [-2.42126375e-01]\n",
      "  [-2.17937380e-01]\n",
      "  [-1.56836137e-01]\n",
      "  [-8.74873698e-02]\n",
      "  [-8.34924169e-03]\n",
      "  [-0.00000000e+00]\n",
      "  [-0.00000000e+00]\n",
      "  [-0.00000000e+00]\n",
      "  [-0.00000000e+00]\n",
      "  [-0.00000000e+00]]\n",
      "\n",
      " [[-3.75814848e-02]\n",
      "  [-0.00000000e+00]\n",
      "  [-0.00000000e+00]\n",
      "  [-0.00000000e+00]\n",
      "  [-5.02262823e-03]\n",
      "  [-2.05772109e-02]\n",
      "  [-2.65389811e-02]\n",
      "  [-5.54686552e-03]\n",
      "  [-0.00000000e+00]\n",
      "  [-2.18112823e-02]\n",
      "  [-8.45654830e-02]\n",
      "  [-1.18191518e-01]\n",
      "  [-1.14367567e-01]\n",
      "  [-1.21306993e-01]\n",
      "  [-1.89652205e-01]\n",
      "  [-2.41815642e-01]\n",
      "  [-3.09486657e-01]\n",
      "  [-3.40226054e-01]\n",
      "  [-3.04161102e-01]\n",
      "  [-2.18432724e-01]\n",
      "  [-1.11180507e-01]\n",
      "  [-3.57314013e-02]\n",
      "  [-0.00000000e+00]\n",
      "  [-0.00000000e+00]\n",
      "  [-0.00000000e+00]\n",
      "  [-0.00000000e+00]\n",
      "  [-0.00000000e+00]\n",
      "  [-0.00000000e+00]]\n",
      "\n",
      " [[-0.00000000e+00]\n",
      "  [-0.00000000e+00]\n",
      "  [-0.00000000e+00]\n",
      "  [-0.00000000e+00]\n",
      "  [-0.00000000e+00]\n",
      "  [-0.00000000e+00]\n",
      "  [-0.00000000e+00]\n",
      "  [-0.00000000e+00]\n",
      "  [-1.64076872e-02]\n",
      "  [-8.16964582e-02]\n",
      "  [-1.52552381e-01]\n",
      "  [-1.85755834e-01]\n",
      "  [-1.70011610e-01]\n",
      "  [-1.67782187e-01]\n",
      "  [-1.93535134e-01]\n",
      "  [-2.53955364e-01]\n",
      "  [-2.87109911e-01]\n",
      "  [-2.84387648e-01]\n",
      "  [-2.25423321e-01]\n",
      "  [-1.41412437e-01]\n",
      "  [-5.75318448e-02]\n",
      "  [-6.89934893e-03]\n",
      "  [-0.00000000e+00]\n",
      "  [-0.00000000e+00]\n",
      "  [-0.00000000e+00]\n",
      "  [-0.00000000e+00]\n",
      "  [-0.00000000e+00]\n",
      "  [-2.29740087e-02]]\n",
      "\n",
      " [[-0.00000000e+00]\n",
      "  [-0.00000000e+00]\n",
      "  [-0.00000000e+00]\n",
      "  [-0.00000000e+00]\n",
      "  [-0.00000000e+00]\n",
      "  [-0.00000000e+00]\n",
      "  [-0.00000000e+00]\n",
      "  [-0.00000000e+00]\n",
      "  [-1.19049735e-02]\n",
      "  [-9.16018039e-02]\n",
      "  [-1.44242957e-01]\n",
      "  [-1.39918476e-01]\n",
      "  [-9.08894092e-02]\n",
      "  [-6.93855584e-02]\n",
      "  [-1.03142835e-01]\n",
      "  [-1.45090893e-01]\n",
      "  [-1.57394394e-01]\n",
      "  [-1.52057514e-01]\n",
      "  [-9.07335132e-02]\n",
      "  [-2.65749618e-02]\n",
      "  [-0.00000000e+00]\n",
      "  [-0.00000000e+00]\n",
      "  [-0.00000000e+00]\n",
      "  [-0.00000000e+00]\n",
      "  [-0.00000000e+00]\n",
      "  [-0.00000000e+00]\n",
      "  [-0.00000000e+00]\n",
      "  [-1.85223436e-03]]\n",
      "\n",
      " [[-0.00000000e+00]\n",
      "  [-0.00000000e+00]\n",
      "  [-0.00000000e+00]\n",
      "  [-0.00000000e+00]\n",
      "  [-0.00000000e+00]\n",
      "  [-0.00000000e+00]\n",
      "  [-0.00000000e+00]\n",
      "  [-0.00000000e+00]\n",
      "  [-3.78341880e-03]\n",
      "  [-4.28574570e-02]\n",
      "  [-3.45677286e-02]\n",
      "  [-0.00000000e+00]\n",
      "  [-0.00000000e+00]\n",
      "  [-0.00000000e+00]\n",
      "  [-0.00000000e+00]\n",
      "  [-1.99841205e-02]\n",
      "  [-3.45413536e-02]\n",
      "  [-7.13202311e-03]\n",
      "  [-0.00000000e+00]\n",
      "  [-0.00000000e+00]\n",
      "  [-0.00000000e+00]\n",
      "  [-0.00000000e+00]\n",
      "  [-0.00000000e+00]\n",
      "  [-0.00000000e+00]\n",
      "  [-0.00000000e+00]\n",
      "  [-0.00000000e+00]\n",
      "  [-0.00000000e+00]\n",
      "  [-0.00000000e+00]]\n",
      "\n",
      " [[-0.00000000e+00]\n",
      "  [-0.00000000e+00]\n",
      "  [-0.00000000e+00]\n",
      "  [-0.00000000e+00]\n",
      "  [-0.00000000e+00]\n",
      "  [-0.00000000e+00]\n",
      "  [-0.00000000e+00]\n",
      "  [-0.00000000e+00]\n",
      "  [-0.00000000e+00]\n",
      "  [-0.00000000e+00]\n",
      "  [-0.00000000e+00]\n",
      "  [-0.00000000e+00]\n",
      "  [-0.00000000e+00]\n",
      "  [-0.00000000e+00]\n",
      "  [-0.00000000e+00]\n",
      "  [-0.00000000e+00]\n",
      "  [-0.00000000e+00]\n",
      "  [-0.00000000e+00]\n",
      "  [-0.00000000e+00]\n",
      "  [-0.00000000e+00]\n",
      "  [-0.00000000e+00]\n",
      "  [-0.00000000e+00]\n",
      "  [-0.00000000e+00]\n",
      "  [-0.00000000e+00]\n",
      "  [-0.00000000e+00]\n",
      "  [-0.00000000e+00]\n",
      "  [-0.00000000e+00]\n",
      "  [-0.00000000e+00]]\n",
      "\n",
      " [[-0.00000000e+00]\n",
      "  [-0.00000000e+00]\n",
      "  [-0.00000000e+00]\n",
      "  [-0.00000000e+00]\n",
      "  [-0.00000000e+00]\n",
      "  [-0.00000000e+00]\n",
      "  [-0.00000000e+00]\n",
      "  [-0.00000000e+00]\n",
      "  [-0.00000000e+00]\n",
      "  [-0.00000000e+00]\n",
      "  [-0.00000000e+00]\n",
      "  [-0.00000000e+00]\n",
      "  [-0.00000000e+00]\n",
      "  [-0.00000000e+00]\n",
      "  [-0.00000000e+00]\n",
      "  [-0.00000000e+00]\n",
      "  [-0.00000000e+00]\n",
      "  [-0.00000000e+00]\n",
      "  [-0.00000000e+00]\n",
      "  [-0.00000000e+00]\n",
      "  [-0.00000000e+00]\n",
      "  [-0.00000000e+00]\n",
      "  [-0.00000000e+00]\n",
      "  [-0.00000000e+00]\n",
      "  [-0.00000000e+00]\n",
      "  [-0.00000000e+00]\n",
      "  [-0.00000000e+00]\n",
      "  [-0.00000000e+00]]]\n",
      "[ 0  0  0  0  0  0  0  0  0  0  0  0  0  0  0  0  0  0  0  0  0  0  0  0\n",
      "  0  0  0  0  1  1  1  1  1  1  1  1  1  1  1  1  1  1  1  1  1  1  1  1\n",
      "  1  1  1  1  1  1  1  1  2  2  2  2  2  2  2  2  2  2  2  2  2  2  2  2\n",
      "  2  2  2  2  2  2  2  2  2  2  2  2  3  3  3  3  3  3  3  3  3  3  3  3\n",
      "  3  3  3  3  3  3  3  3  3  3  3  3  3  3  3  3  4  4  4  4  4  4  4  4\n",
      "  4  4  4  4  4  4  4  4  4  4  4  4  4  4  4  4  4  4  4  4  5  5  5  5\n",
      "  5  5  5  5  5  5  5  5  5  5  5  5  5  5  5  5  5  5  5  5  5  5  5  5\n",
      "  6  6  6  6  6  6  6  6  6  6  6  6  6  6  6  6  6  6  6  6  6  6  6  6\n",
      "  6  6  6  6  7  7  7  7  7  7  7  7  7  7  7  7  7  7  7  7  7  7  7  7\n",
      "  7  7  7  7  7  7  7  7  8  8  8  8  8  8  8  8  8  8  8  8  8  8  8  8\n",
      "  8  8  8  8  8  8  8  8  8  8  8  8  9  9  9  9  9  9  9  9  9  9  9  9\n",
      "  9  9  9  9  9  9  9  9  9  9  9  9  9  9  9  9 10 10 10 10 10 10 10 10\n",
      " 10 10 10 10 10 10 10 10 10 10 10 10 10 10 10 10 10 10 10 10 11 11 11 11\n",
      " 11 11 11 11 11 11 11 11 11 11 11 11 11 11 11 11 11 11 11 11 11 11 11 11\n",
      " 12 12 12 12 12 12 12 12 12 12 12 12 12 12 12 12 12 12 12 12 12 12 12 12\n",
      " 12 12 12 12 13 13 13 13 13 13 13 13 13 13 13 13 13 13 13 13 13 13 13 13\n",
      " 13 13 13 13 13 13 13 13 14 14 14 14 14 14 14 14 14 14 14 14 14 14 14 14\n",
      " 14 14 14 14 14 14 14 14 14 14 14 14 15 15 15 15 15 15 15 15 15 15 15 15\n",
      " 15 15 15 15 15 15 15 15 15 15 15 15 15 15 15 15 16 16 16 16 16 16 16 16\n",
      " 16 16 16 16 16 16 16 16 16 16 16 16 16 16 16 16 16 16 16 16 17 17 17 17\n",
      " 17 17 17 17 17 17 17 17 17 17 17 17 17 17 17 17 17 17 17 17 17 17 17 17\n",
      " 18 18 18 18 18 18 18 18 18 18 18 18 18 18 18 18 18 18 18 18 18 18 18 18\n",
      " 18 18 18 18 19 19 19 19 19 19 19 19 19 19 19 19 19 19 19 19 19 19 19 19\n",
      " 19 19 19 19 19 19 19 19 20 20 20 20 20 20 20 20 20 20 20 20 20 20 20 20\n",
      " 20 20 20 20 20 20 20 20 20 20 20 20 21 21 21 21 21 21 21 21 21 21 21 21\n",
      " 21 21 21 21 21 21 21 21 21 21 21 21 21 21 21 21 22 22 22 22 22 22 22 22\n",
      " 22 22 22 22 22 22 22 22 22 22 22 22 22 22 22 22 22 22 22 22 23 23 23 23\n",
      " 23 23 23 23 23 23 23 23 23 23 23 23 23 23 23 23 23 23 23 23 23 23 23 23\n",
      " 24 24 24 24 24 24 24 24 24 24 24 24 24 24 24 24 24 24 24 24 24 24 24 24\n",
      " 24 24 24 24 25 25 25 25 25 25 25 25 25 25 25 25 25 25 25 25 25 25 25 25\n",
      " 25 25 25 25 25 25 25 25 26 26 26 26 26 26 26 26 26 26 26 26 26 26 26 26\n",
      " 26 26 26 26 26 26 26 26 26 26 26 26 27 27 27 27 27 27 27 27 27 27 27 27\n",
      " 27 27 27 27 27 27 27 27 27 27 27 27 27 27 27 27]\n"
     ]
    }
   ],
   "source": [
    "#defning a threshold value, if it's greater then the corresponding filter must be bright for the output\n",
    "threshold = -10\n",
    "\n",
    "#obtaining the dot product of the weights and the activations\n",
    "dot_product = np.multiply(weights_FC[0], activations_penultimate[0])\n",
    "\n",
    "print(dot_product)\n",
    "#store the indices of the filters that are bright\n",
    "indices = np.where(dot_product > threshold)[0]\n",
    "\n",
    "print(indices)"
   ]
  },
  {
   "cell_type": "code",
   "execution_count": null,
   "metadata": {},
   "outputs": [
    {
     "name": "stdout",
     "output_type": "stream",
     "text": [
      "Iteration: 20, Loss: 34.9587\n"
     ]
    },
    {
     "data": {
      "image/png": "[encoded data removed]",
      "text/plain": [
       "<Figure size 640x480 with 1 Axes>"
      ]
     },
     "metadata": {},
     "output_type": "display_data"
    },
    {
     "name": "stdout",
     "output_type": "stream",
     "text": [
      "Iteration: 20, Loss: 30.8707\n"
     ]
    },
    {
     "data": {
      "image/png": "[encoded data removed]",
      "text/plain": [
       "<Figure size 640x480 with 1 Axes>"
      ]
     },
     "metadata": {},
     "output_type": "display_data"
    },
    {
     "name": "stdout",
     "output_type": "stream",
     "text": [
      "Iteration: 20, Loss: 32.0527\n"
     ]
    },
    {
     "data": {
      "image/png": "[encoded data removed]",
      "text/plain": [
       "<Figure size 640x480 with 1 Axes>"
      ]
     },
     "metadata": {},
     "output_type": "display_data"
    },
    {
     "name": "stdout",
     "output_type": "stream",
     "text": [
      "Iteration: 20, Loss: 35.9202\n"
     ]
    },
    {
     "data": {
      "image/png": "[encoded data removed]",
      "text/plain": [
       "<Figure size 640x480 with 1 Axes>"
      ]
     },
     "metadata": {},
     "output_type": "display_data"
    },
    {
     "name": "stdout",
     "output_type": "stream",
     "text": [
      "Iteration: 20, Loss: 31.7313\n"
     ]
    },
    {
     "data": {
      "image/png": "[encoded data removed]",
      "text/plain": [
       "<Figure size 640x480 with 1 Axes>"
      ]
     },
     "metadata": {},
     "output_type": "display_data"
    },
    {
     "name": "stdout",
     "output_type": "stream",
     "text": [
      "Iteration: 20, Loss: 33.1344\n"
     ]
    },
    {
     "data": {
      "image/png": "[encoded data removed]",
      "text/plain": [
       "<Figure size 640x480 with 1 Axes>"
      ]
     },
     "metadata": {},
     "output_type": "display_data"
    },
    {
     "name": "stdout",
     "output_type": "stream",
     "text": [
      "Iteration: 20, Loss: 30.4825\n"
     ]
    },
    {
     "data": {
      "image/png": "[encoded data removed]",
      "text/plain": [
       "<Figure size 640x480 with 1 Axes>"
      ]
     },
     "metadata": {},
     "output_type": "display_data"
    },
    {
     "name": "stdout",
     "output_type": "stream",
     "text": [
      "Iteration: 20, Loss: 32.5702\n"
     ]
    },
    {
     "data": {
      "image/png": "[encoded data removed]",
      "text/plain": [
       "<Figure size 640x480 with 1 Axes>"
      ]
     },
     "metadata": {},
     "output_type": "display_data"
    },
    {
     "name": "stdout",
     "output_type": "stream",
     "text": [
      "Iteration: 20, Loss: 33.0312\n"
     ]
    },
    {
     "data": {
      "image/png": "[encoded data removed]",
      "text/plain": [
       "<Figure size 640x480 with 1 Axes>"
      ]
     },
     "metadata": {},
     "output_type": "display_data"
    },
    {
     "name": "stdout",
     "output_type": "stream",
     "text": [
      "Iteration: 20, Loss: 36.4615\n"
     ]
    },
    {
     "data": {
      "image/png": "[encoded data removed]",
      "text/plain": [
       "<Figure size 640x480 with 1 Axes>"
      ]
     },
     "metadata": {},
     "output_type": "display_data"
    },
    {
     "name": "stdout",
     "output_type": "stream",
     "text": [
      "Iteration: 20, Loss: 32.0898\n"
     ]
    },
    {
     "data": {
      "image/png": "[encoded data removed]",
      "text/plain": [
       "<Figure size 640x480 with 1 Axes>"
      ]
     },
     "metadata": {},
     "output_type": "display_data"
    },
    {
     "name": "stdout",
     "output_type": "stream",
     "text": [
      "Iteration: 20, Loss: 34.2831\n"
     ]
    },
    {
     "data": {
      "image/png": "[encoded data removed]",
      "text/plain": [
       "<Figure size 640x480 with 1 Axes>"
      ]
     },
     "metadata": {},
     "output_type": "display_data"
    },
    {
     "name": "stdout",
     "output_type": "stream",
     "text": [
      "Iteration: 20, Loss: 35.4746\n"
     ]
    },
    {
     "data": {
      "image/png": "[encoded data removed]",
      "text/plain": [
       "<Figure size 640x480 with 1 Axes>"
      ]
     },
     "metadata": {},
     "output_type": "display_data"
    },
    {
     "name": "stdout",
     "output_type": "stream",
     "text": [
      "Iteration: 20, Loss: 34.0323\n"
     ]
    },
    {
     "data": {
      "image/png": "[encoded data removed]",
      "text/plain": [
       "<Figure size 640x480 with 1 Axes>"
      ]
     },
     "metadata": {},
     "output_type": "display_data"
    },
    {
     "name": "stdout",
     "output_type": "stream",
     "text": [
      "Iteration: 20, Loss: 31.2247\n"
     ]
    },
    {
     "data": {
      "image/png": "[encoded data removed]",
      "text/plain": [
       "<Figure size 640x480 with 1 Axes>"
      ]
     },
     "metadata": {},
     "output_type": "display_data"
    },
    {
     "name": "stdout",
     "output_type": "stream",
     "text": [
      "Iteration: 20, Loss: 31.0611\n"
     ]
    },
    {
     "data": {
      "image/png": "[encoded data removed]",
      "text/plain": [
       "<Figure size 640x480 with 1 Axes>"
      ]
     },
     "metadata": {},
     "output_type": "display_data"
    },
    {
     "name": "stdout",
     "output_type": "stream",
     "text": [
      "Iteration: 20, Loss: 28.2523\n"
     ]
    },
    {
     "data": {
      "image/png": "[encoded data removed]",
      "text/plain": [
       "<Figure size 640x480 with 1 Axes>"
      ]
     },
     "metadata": {},
     "output_type": "display_data"
    },
    {
     "name": "stdout",
     "output_type": "stream",
     "text": [
      "Iteration: 20, Loss: 33.1622\n"
     ]
    },
    {
     "data": {
      "image/png": "[encoded data removed]",
      "text/plain": [
       "<Figure size 640x480 with 1 Axes>"
      ]
     },
     "metadata": {},
     "output_type": "display_data"
    },
    {
     "name": "stdout",
     "output_type": "stream",
     "text": [
      "Iteration: 20, Loss: 31.6164\n"
     ]
    },
    {
     "data": {
      "image/png": "[encoded data removed]",
      "text/plain": [
       "<Figure size 640x480 with 1 Axes>"
      ]
     },
     "metadata": {},
     "output_type": "display_data"
    },
    {
     "name": "stdout",
     "output_type": "stream",
     "text": [
      "Iteration: 20, Loss: 33.2755\n"
     ]
    },
    {
     "data": {
      "image/png": "[encoded data removed]",
      "text/plain": [
       "<Figure size 640x480 with 1 Axes>"
      ]
     },
     "metadata": {},
     "output_type": "display_data"
    },
    {
     "name": "stdout",
     "output_type": "stream",
     "text": [
      "Iteration: 20, Loss: 31.2901\n"
     ]
    },
    {
     "data": {
      "image/png": "[encoded data removed]",
      "text/plain": [
       "<Figure size 640x480 with 1 Axes>"
      ]
     },
     "metadata": {},
     "output_type": "display_data"
    },
    {
     "name": "stdout",
     "output_type": "stream",
     "text": [
      "Iteration: 20, Loss: 31.3313\n"
     ]
    },
    {
     "data": {
      "image/png": "[encoded data removed]",
      "text/plain": [
       "<Figure size 640x480 with 1 Axes>"
      ]
     },
     "metadata": {},
     "output_type": "display_data"
    },
    {
     "name": "stdout",
     "output_type": "stream",
     "text": [
      "Iteration: 20, Loss: 35.9203\n"
     ]
    },
    {
     "data": {
      "image/png": "[encoded data removed]",
      "text/plain": [
       "<Figure size 640x480 with 1 Axes>"
      ]
     },
     "metadata": {},
     "output_type": "display_data"
    },
    {
     "name": "stdout",
     "output_type": "stream",
     "text": [
      "Iteration: 20, Loss: 32.4468\n"
     ]
    },
    {
     "data": {
      "image/png": "[encoded data removed]",
      "text/plain": [
       "<Figure size 640x480 with 1 Axes>"
      ]
     },
     "metadata": {},
     "output_type": "display_data"
    },
    {
     "name": "stdout",
     "output_type": "stream",
     "text": [
      "Iteration: 20, Loss: 31.4161\n"
     ]
    },
    {
     "data": {
      "image/png": "[encoded data removed]",
      "text/plain": [
       "<Figure size 640x480 with 1 Axes>"
      ]
     },
     "metadata": {},
     "output_type": "display_data"
    },
    {
     "name": "stdout",
     "output_type": "stream",
     "text": [
      "Iteration: 20, Loss: 31.0687\n"
     ]
    },
    {
     "data": {
      "image/png": "[encoded data removed]",
      "text/plain": [
       "<Figure size 640x480 with 1 Axes>"
      ]
     },
     "metadata": {},
     "output_type": "display_data"
    },
    {
     "name": "stdout",
     "output_type": "stream",
     "text": [
      "Iteration: 20, Loss: 35.6539\n"
     ]
    },
    {
     "data": {
      "image/png": "[encoded data removed]",
      "text/plain": [
       "<Figure size 640x480 with 1 Axes>"
      ]
     },
     "metadata": {},
     "output_type": "display_data"
    },
    {
     "name": "stdout",
     "output_type": "stream",
     "text": [
      "Iteration: 20, Loss: 31.6174\n"
     ]
    },
    {
     "data": {
      "image/png": "[encoded data removed]",
      "text/plain": [
       "<Figure size 640x480 with 1 Axes>"
      ]
     },
     "metadata": {},
     "output_type": "display_data"
    },
    {
     "ename": "AssertionError",
     "evalue": "filter index out of bounds",
     "output_type": "error",
     "traceback": [
      "\u001b[0;31m---------------------------------------------------------------------------\u001b[0m",
      "\u001b[0;31mAssertionError\u001b[0m                            Traceback (most recent call last)",
      "Cell \u001b[0;32mIn[96], line 3\u001b[0m\n\u001b[1;32m      1\u001b[0m \u001b[38;5;66;03m#iterate over the indices and gradient ascent to obtain the images that maximize the output of the filters\u001b[39;00m\n\u001b[1;32m      2\u001b[0m \u001b[38;5;28;01mfor\u001b[39;00m i \u001b[38;5;129;01min\u001b[39;00m indices:\n\u001b[0;32m----> 3\u001b[0m     \u001b[43mvisualise_filters\u001b[49m\u001b[43m(\u001b[49m\u001b[43mmodel\u001b[49m\u001b[43m \u001b[49m\u001b[38;5;241;43m=\u001b[39;49m\u001b[43m \u001b[49m\u001b[43mmodel\u001b[49m\u001b[43m,\u001b[49m\u001b[43m \u001b[49m\u001b[43mlayer_name\u001b[49m\u001b[43m \u001b[49m\u001b[38;5;241;43m=\u001b[39;49m\u001b[43m \u001b[49m\u001b[43mmodel\u001b[49m\u001b[38;5;241;43m.\u001b[39;49m\u001b[43mlayers\u001b[49m\u001b[43m[\u001b[49m\u001b[38;5;241;43m-\u001b[39;49m\u001b[38;5;241;43m3\u001b[39;49m\u001b[43m]\u001b[49m\u001b[38;5;241;43m.\u001b[39;49m\u001b[43mname\u001b[49m\u001b[43m \u001b[49m\u001b[43m,\u001b[49m\u001b[43m \u001b[49m\u001b[43mf_index\u001b[49m\u001b[43m \u001b[49m\u001b[38;5;241;43m=\u001b[39;49m\u001b[43m \u001b[49m\u001b[43mi\u001b[49m\u001b[43m)\u001b[49m\n",
      "Cell \u001b[0;32mIn[92], line 22\u001b[0m, in \u001b[0;36mvisualise_filters\u001b[0;34m(model, layer_name, f_index, iters)\u001b[0m\n\u001b[1;32m     19\u001b[0m \u001b[38;5;28;01mif\u001b[39;00m f_index \u001b[38;5;129;01mis\u001b[39;00m \u001b[38;5;28;01mNone\u001b[39;00m:\n\u001b[1;32m     20\u001b[0m   f_index \u001b[38;5;241m=\u001b[39m random\u001b[38;5;241m.\u001b[39mrandint(\u001b[38;5;241m0\u001b[39m, num_filters \u001b[38;5;241m-\u001b[39m \u001b[38;5;241m1\u001b[39m)\n\u001b[0;32m---> 22\u001b[0m \u001b[38;5;28;01massert\u001b[39;00m num_filters \u001b[38;5;241m>\u001b[39m f_index, \u001b[38;5;124m'\u001b[39m\u001b[38;5;124mfilter index out of bounds\u001b[39m\u001b[38;5;124m'\u001b[39m\n\u001b[1;32m     24\u001b[0m image \u001b[38;5;241m=\u001b[39m create_image()\n\u001b[1;32m     25\u001b[0m verbose_step \u001b[38;5;241m=\u001b[39m \u001b[38;5;28mint\u001b[39m(iters \u001b[38;5;241m/\u001b[39m \u001b[38;5;241m5\u001b[39m)\n",
      "\u001b[0;31mAssertionError\u001b[0m: filter index out of bounds"
     ]
    }
   ],
   "source": [
    "#iterate over the indices and gradient ascent to obtain the images that maximize the output of the filters\n",
    "for i in indices:\n",
    "    visualise_filters(model = model, layer_name = model.layers[-3].name , f_index = i)"
   ]
  }
 ],
 "metadata": {
  "kernelspec": {
   "display_name": "Python 3",
   "language": "python",
   "name": "python3"
  },
  "language_info": {
   "codemirror_mode": {
    "name": "ipython",
    "version": 3
   },
   "file_extension": ".py",
   "mimetype": "text/x-python",
   "name": "python",
   "nbconvert_exporter": "python",
   "pygments_lexer": "ipython3",
   "version": "3.12.2"
  }
 },
 "nbformat": 4,
 "nbformat_minor": 2
}
